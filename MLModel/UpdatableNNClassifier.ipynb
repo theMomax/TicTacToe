{
 "cells": [
  {
   "cell_type": "markdown",
   "metadata": {},
   "source": [
    "# Updatable Neural Network Classifier\n",
    "This notebook demonstrates the process of creating a simple convolutional neural network classifier model that can be used for training on the MNIST-like dataset. The model is created using Keras, and then converted to a Core ML format using keras_converter. Once in Core ML format, we mark last two fully connected layers as updatable. Lastly, we attach a categorical cross entropy loss layer to the last layer and use SGD as the optimizer. "
   ]
  },
  {
   "cell_type": "code",
   "execution_count": 14,
   "metadata": {},
   "outputs": [],
   "source": [
    "def create_keras_base_model(url):\n",
    "    \"\"\"This method creates a convolutional neural network model using Keras.\n",
    "    url - The URL that the keras model will be saved as h5 file.\n",
    "    \"\"\"\n",
    "    \n",
    "    import keras\n",
    "    from keras.models import Sequential\n",
    "    from keras.layers import Dense, Dropout, Flatten, MaxPooling2D\n",
    "    \n",
    "    keras.backend.clear_session()\n",
    "    model = Sequential()\n",
    "    # model.add(Dropout(0.25))\n",
    "    model.add(Dense(9,\n",
    "                    input_shape=(9, ),\n",
    "                    activation='relu'))\n",
    "    model.add(Dense(9, activation='relu'))\n",
    "    model.add(Dense(9, activation='relu'))\n",
    "    # model.add(Dense(9, activation='relu'))\n",
    "    # model.add(Dense(9, activation='relu'))\n",
    "    # model.add(Dense(9, activation='relu'))\n",
    "    # model.add(Dense(9, activation='relu'))\n",
    "    # model.add(Dense(9, activation='relu'))\n",
    "    # model.add(Dropout(0.5))\n",
    "    model.add(Dense(9, activation='softmax'))\n",
    "\n",
    "    model.compile(loss=keras.losses.categorical_crossentropy,\n",
    "                  optimizer=keras.optimizers.SGD(lr=0.05),\n",
    "                  metrics=['accuracy'])\n",
    "\n",
    "    model.save(url)\n",
    "\n",
    "keras_model_path = './KerasNNClassifier.h5'\n",
    "create_keras_base_model(keras_model_path)"
   ]
  },
  {
   "cell_type": "code",
   "execution_count": 15,
   "metadata": {},
   "outputs": [
    {
     "name": "stdout",
     "output_type": "stream",
     "text": [
      "0 : dense_1_input, <keras.engine.input_layer.InputLayer object at 0xa2ac24450>\n",
      "1 : dense_1, <keras.layers.core.Dense object at 0xa2ac242d0>\n",
      "2 : dense_1__activation__, <keras.layers.core.Activation object at 0xa2acd3f10>\n",
      "3 : dense_2, <keras.layers.core.Dense object at 0xa2ac24dd0>\n",
      "4 : dense_2__activation__, <keras.layers.core.Activation object at 0xa2acb60d0>\n",
      "5 : dense_3, <keras.layers.core.Dense object at 0xa2ac2c1d0>\n",
      "6 : dense_3__activation__, <keras.layers.core.Activation object at 0xa2ac4fd50>\n",
      "7 : dense_4, <keras.layers.core.Dense object at 0xa2ac2ca10>\n",
      "8 : dense_4__activation__, <keras.layers.core.Activation object at 0xa2ab251d0>\n"
     ]
    }
   ],
   "source": [
    "def convert_keras_to_mlmodel(keras_url, mlmodel_url):\n",
    "    \"\"\"This method simply converts the keras model to a mlmodel using coremltools.\n",
    "    keras_url - The URL the keras model will be loaded.\n",
    "    mlmodel_url - the URL the Core ML model will be saved.\n",
    "    \"\"\"\n",
    "    from keras.models import load_model\n",
    "    keras_model = load_model(keras_url)\n",
    "    \n",
    "    from coremltools.converters import keras as keras_converter\n",
    "    class_labels = ['topLeft', 'top', 'topRight', 'midLeft', 'mid', 'midRight', 'bottomLeft', 'bottom', 'bottomRight']\n",
    "    mlmodel = keras_converter.convert(keras_model, input_names=['gameboard'],\n",
    "                                output_names=['pickProbabilities'],\n",
    "                                class_labels=class_labels,\n",
    "                                predicted_feature_name='pick')\n",
    "    \n",
    "    mlmodel.save(mlmodel_url)\n",
    "     \n",
    "coreml_model_path = './NNClassifier.mlmodel'\n",
    "convert_keras_to_mlmodel(keras_model_path , coreml_model_path)"
   ]
  },
  {
   "cell_type": "code",
   "execution_count": 16,
   "metadata": {
    "scrolled": true
   },
   "outputs": [
    {
     "name": "stdout",
     "output_type": "stream",
     "text": [
      "[Id: 7], Name: dense_4__activation__ (Type: softmax)\n",
      "          Updatable: False\n",
      "          Input blobs: ['dense_4_output']\n",
      "          Output blobs: ['pickProbabilities']\n",
      "[Id: 6], Name: dense_4 (Type: innerProduct)\n",
      "          Updatable: False\n",
      "          Input blobs: ['dense_3__activation___output']\n",
      "          Output blobs: ['dense_4_output']\n",
      "[Id: 5], Name: dense_3__activation__ (Type: activation)\n",
      "          Updatable: False\n",
      "          Input blobs: ['dense_3_output']\n",
      "          Output blobs: ['dense_3__activation___output']\n"
     ]
    }
   ],
   "source": [
    "# let's inspect the last few layers of this model\n",
    "import coremltools\n",
    "spec = coremltools.utils.load_spec(coreml_model_path)\n",
    "builder = coremltools.models.neural_network.NeuralNetworkBuilder(spec=spec)\n",
    "builder.inspect_layers(last=3)"
   ]
  },
  {
   "cell_type": "code",
   "execution_count": 17,
   "metadata": {},
   "outputs": [
    {
     "name": "stdout",
     "output_type": "stream",
     "text": [
      "[Id: 0] Name: gameboard\n",
      "          Type: multiArrayType {\n",
      "  shape: 9\n",
      "  dataType: DOUBLE\n",
      "}\n",
      "\n",
      "[Id: 0] Name: gameboard\n",
      "          Type: multiArrayType {\n",
      "  shape: 9\n",
      "  dataType: DOUBLE\n",
      "}\n",
      "\n"
     ]
    }
   ],
   "source": [
    "# let's inspect the input of the model as we need this information later on the make_updatable method\n",
    "builder.inspect_input_features()\n",
    "\n",
    "neuralnetwork_spec = builder.spec\n",
    "\n",
    "# let's inspect the input again to confirm the change in input type\n",
    "builder.inspect_input_features()\n",
    "\n",
    "# Set input and output description\n",
    "neuralnetwork_spec.description.input[0].shortDescription = \"TicTacToe gameboard, where a value of 1 is .a (AIPlayer's pick, 0 is nil/empty and -1 is .b (opponent's pick))\"\n",
    "neuralnetwork_spec.description.output[0].shortDescription = 'Probabilities / score for each pick'\n",
    "neuralnetwork_spec.description.output[1].shortDescription = 'Predicted pick'\n",
    "\n",
    "# Provide metadata\n",
    "neuralnetwork_spec.description.metadata.author = 'Max Obermeier'\n",
    "neuralnetwork_spec.description.metadata.license = 'MIT'\n",
    "neuralnetwork_spec.description.metadata.shortDescription = (\n",
    "        'An updatable TicTacToe-pick classifier (suggests next pick).')\n"
   ]
  },
  {
   "cell_type": "code",
   "execution_count": 19,
   "metadata": {},
   "outputs": [
    {
     "name": "stdout",
     "output_type": "stream",
     "text": [
      "Now adding input pickProbabilities_true as target for categorical cross-entropy loss layer.\n"
     ]
    }
   ],
   "source": [
    "def make_updatable(builder, mlmodel_url, mlmodel_updatable_path):\n",
    "    \"\"\"This method makes an existing non-updatable mlmodel updatable.\n",
    "    mlmodel_url - the path the Core ML model is stored.\n",
    "    mlmodel_updatable_path - the path the updatable Core ML model will be saved.\n",
    "    \"\"\"\n",
    "    import coremltools\n",
    "    model_spec = builder.spec\n",
    "\n",
    "    # make_updatable method is used to make a layer updatable. It requires a list of layer names.\n",
    "    # dense_1 and dense_2 are two innerProduct layer in this example and we make them updatable.\n",
    "    builder.make_updatable(['dense_1', 'dense_2', 'dense_3', 'dense_4'])\n",
    "\n",
    "    # Categorical Cross Entropy or Mean Squared Error can be chosen for the loss layer.\n",
    "    # Categorical Cross Entropy is used on this example. CCE requires two inputs: 'name' and 'input'.\n",
    "    # name must be a string and will be the name associated with the loss layer\n",
    "    # input must be the output of a softmax layer in the case of CCE. \n",
    "    # The loss's target will be provided automatically as a part of the model's training inputs.\n",
    "    builder.set_categorical_cross_entropy_loss(name='lossLayer', input='pickProbabilities')\n",
    "\n",
    "    # in addition of the loss layer, an optimizer must also be defined. SGD and Adam optimizers are supported.\n",
    "    # SGD has been used for this example. To use SGD, one must set lr(learningRate) and batch(miniBatchSize) (momentum is an optional parameter).\n",
    "    from coremltools.models.neural_network import SgdParams\n",
    "    builder.set_sgd_optimizer(SgdParams(lr=0.05, batch=1))\n",
    "\n",
    "    # Finally, the number of epochs must be set as follows.\n",
    "    builder.set_epochs(10)\n",
    "        \n",
    "    # Set training inputs descriptions\n",
    "    model_spec.description.trainingInput[0].shortDescription = 'Example gameboard.'\n",
    "    model_spec.description.trainingInput[1].shortDescription = 'Associated true label (best pick) of example gameboard'\n",
    "\n",
    "    # save the updated spec\n",
    "    from coremltools.models import MLModel\n",
    "    mlmodel_updatable = MLModel(model_spec)\n",
    "    mlmodel_updatable.save(mlmodel_updatable_path)\n",
    "\n",
    "coreml_updatable_model_path = './UpdatableNNClassifier.mlmodel'\n",
    "make_updatable(builder, coreml_model_path, coreml_updatable_model_path)"
   ]
  },
  {
   "cell_type": "code",
   "execution_count": 20,
   "metadata": {},
   "outputs": [
    {
     "name": "stdout",
     "output_type": "stream",
     "text": [
      "[Id: 0], Name: lossLayer (Type: categoricalCrossEntropyLossLayer)\n",
      "          Loss Input: pickProbabilities\n",
      "          Loss Target: pickProbabilities_true\n"
     ]
    }
   ],
   "source": [
    "# let's inspect the loss layer of the Core ML model\n",
    "import coremltools\n",
    "spec = coremltools.utils.load_spec(coreml_updatable_model_path)\n",
    "builder = coremltools.models.neural_network.NeuralNetworkBuilder(spec=spec)\n",
    "\n",
    "builder.inspect_loss_layers()"
   ]
  },
  {
   "cell_type": "code",
   "execution_count": 21,
   "metadata": {},
   "outputs": [
    {
     "name": "stdout",
     "output_type": "stream",
     "text": [
      "Optimizer Type: sgdOptimizer\n",
      "lr: 0.05, min: 0.0, max: 1.0\n",
      "batch: 1, allowed_set: [1]\n",
      "momentum: 0.0, min: 0.0, max: 1.0\n"
     ]
    }
   ],
   "source": [
    "# let's inspect the optimizer of the Core ML model\n",
    "builder.inspect_optimizer()"
   ]
  },
  {
   "cell_type": "code",
   "execution_count": 22,
   "metadata": {},
   "outputs": [
    {
     "name": "stdout",
     "output_type": "stream",
     "text": [
      "Name: dense_4 (Type: innerProduct)\n",
      "          Input blobs: ['dense_3__activation___output']\n",
      "          Output blobs: ['dense_4_output']\n",
      "Name: dense_3 (Type: innerProduct)\n",
      "          Input blobs: ['dense_2__activation___output']\n",
      "          Output blobs: ['dense_3_output']\n",
      "Name: dense_2 (Type: innerProduct)\n",
      "          Input blobs: ['dense_1__activation___output']\n",
      "          Output blobs: ['dense_2_output']\n",
      "Name: dense_1 (Type: innerProduct)\n",
      "          Input blobs: ['gameboard']\n",
      "          Output blobs: ['dense_1_output']\n"
     ]
    }
   ],
   "source": [
    "# let's see which layes are updatable\n",
    "builder.inspect_updatable_layers()"
   ]
  },
  {
   "cell_type": "code",
   "execution_count": null,
   "metadata": {},
   "outputs": [],
   "source": []
  },
  {
   "cell_type": "code",
   "execution_count": null,
   "metadata": {},
   "outputs": [],
   "source": []
  },
  {
   "cell_type": "code",
   "execution_count": null,
   "metadata": {},
   "outputs": [],
   "source": []
  }
 ],
 "metadata": {
  "kernelspec": {
   "display_name": "Python 3",
   "language": "python",
   "name": "python3"
  },
  "language_info": {
   "codemirror_mode": {
    "name": "ipython",
    "version": 3
   },
   "file_extension": ".py",
   "mimetype": "text/x-python",
   "name": "python",
   "nbconvert_exporter": "python",
   "pygments_lexer": "ipython3",
   "version": "3.7.4"
  }
 },
 "nbformat": 4,
 "nbformat_minor": 2
}
